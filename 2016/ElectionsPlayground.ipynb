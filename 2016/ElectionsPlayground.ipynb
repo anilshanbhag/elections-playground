{
 "cells": [
  {
   "cell_type": "code",
   "execution_count": 2,
   "metadata": {
    "collapsed": true
   },
   "outputs": [],
   "source": [
    "%matplotlib inline\n"
   ]
  },
  {
   "cell_type": "code",
   "execution_count": 3,
   "metadata": {
    "collapsed": false
   },
   "outputs": [],
   "source": [
    "import json\n",
    "import pprint as pp"
   ]
  },
  {
   "cell_type": "code",
   "execution_count": 4,
   "metadata": {
    "collapsed": false
   },
   "outputs": [],
   "source": [
    "# Contains the polling results for every county\n",
    "# It also contains aggregates per state and also for the entire country\n",
    "president = json.load(open(\"president.json\"))\n",
    "\n",
    "# Contains the mapping from county ids to their names\n",
    "states = json.load(open(\"en.json\"))\n",
    "\n",
    "# Contains the mapping from candidate id to their names\n",
    "candidates = json.load(open(\"president_metadata.json\"))"
   ]
  },
  {
   "cell_type": "code",
   "execution_count": 12,
   "metadata": {
    "collapsed": false
   },
   "outputs": [],
   "source": [
    "def get_index(entry, name):\n",
    "    g = [i for i in xrange(0,len(entry['cand'])) if candidates['cands'][entry['cand'][i]]['fn'] == name]\n",
    "    if len(g) > 0:\n",
    "        return g[0]\n",
    "    else:\n",
    "        return -1\n",
    "    \n",
    "def get_county_name(id):\n",
    "    return states['en'][\"county.\" + id]"
   ]
  },
  {
   "cell_type": "code",
   "execution_count": 17,
   "metadata": {
    "collapsed": false
   },
   "outputs": [
    {
     "name": "stdout",
     "output_type": "stream",
     "text": [
      "Schema: County, State: Hillary-Vote Percentage, Trump-Vote Percentage,\n",
      "Counties with lowest Hillary Clinton Vote Percentage\n",
      "King County, TX: 3.140000, 93.710000\n",
      "Roberts County, TX: 3.640000, 95.270000\n",
      "Banner County, NE: 4.620000, 91.030000\n",
      "Garfield County, MT: 4.750000, 91.200000\n",
      "McPherson County, NE: 4.900000, 89.860000\n",
      "Harding County, SD: 4.940000, 90.250000\n",
      "Piute County, UT: 5.020000, 87.030000\n",
      "Grant County, NE: 5.080000, 93.150000\n",
      "Glasscock County, TX: 5.650000, 91.860000\n",
      "Wallace County, KS: 5.780000, 91.270000\n",
      "Counties with lowest Donald Trump Vote Percentage\n",
      "District of Columbia County, DC: 92.850000, 4.120000\n",
      "Oglala Lakota County, SD: 86.460000, 8.320000\n",
      "Prince Georges County, MD: 89.330000, 8.340000\n",
      "Bronx County, NY: 88.730000, 9.590000\n",
      "San Francisco County, CA: 85.350000, 9.730000\n",
      "New York County, NY: 87.170000, 9.970000\n",
      "Petersburg city, VA: 87.520000, 10.560000\n",
      "Baltimore city, MD: 85.440000, 10.870000\n",
      "Jefferson County, MS: 86.470000, 12.670000\n",
      "Clayton County, GA: 85.060000, 13.160000\n"
     ]
    }
   ],
   "source": [
    "# To calculate the counties / states with the lowest trump vote\n",
    "vote_counts = []\n",
    "for entry in president['results']:\n",
    "    hillary_index = get_index(entry, 'Hillary Clinton')\n",
    "    trump_index = get_index(entry, 'Donald Trump')\n",
    "    vote_count = [entry['vp'][hillary_index], entry['vp'][trump_index], entry['id'], entry['st']]\n",
    "    if entry['st'] != entry['id']:\n",
    "        vote_counts.append(vote_count)\n",
    "        \n",
    "lowest_hillary = sorted(vote_counts, key=lambda vote_count: vote_count[0])[:10]\n",
    "lowest_trump = sorted(vote_counts, key=lambda vote_count: vote_count[1])[:10]\n",
    "def add_county(lst):\n",
    "    flst = []\n",
    "    for entry in lst:\n",
    "        flst.append(\"%s, %s: %f, %f\" % (get_county_name(entry[2]), entry[3], entry[0], entry[1]))\n",
    "        # entry.append(get_county_name(entry[2]))\n",
    "    return flst\n",
    "lowest_hillary = add_county(lowest_hillary)\n",
    "lowest_trump = add_county(lowest_trump)\n",
    "print \"Schema: County, State: Hillary-Vote Percentage, Trump-Vote Percentage,\"\n",
    "print \"Counties with lowest Hillary Clinton Vote Percentage\"\n",
    "for i in lowest_hillary:\n",
    "    print i\n",
    "print \"Counties with lowest Donald Trump Vote Percentage\"\n",
    "for i in lowest_trump:\n",
    "    print i\n"
   ]
  },
  {
   "cell_type": "code",
   "execution_count": 7,
   "metadata": {
    "collapsed": false
   },
   "outputs": [
    {
     "name": "stdout",
     "output_type": "stream",
     "text": [
      "Flipped to Trump: CO ; Num Votes: 9\n",
      "Flipped to Trump: ME ; Num Votes: 4\n",
      "Flipped to Trump: MN ; Num Votes: 10\n",
      "Flipped to Trump: NH ; Num Votes: 4\n",
      "Flipped to Trump: NV ; Num Votes: 6\n"
     ]
    }
   ],
   "source": [
    "# To see if results change if candidates consolidate \n",
    "# Gary + Trump vs Hillary + Stein\n",
    "for entry in president['results']:\n",
    "    # Find all states\n",
    "    if entry['id'] == entry['st'] and entry['st'] != 'US':\n",
    "        hillary_index = get_index(entry, 'Hillary Clinton')\n",
    "        trump_index = get_index(entry, 'Donald Trump')\n",
    "        gary_index = get_index(entry, 'Gary Johnson')\n",
    "        jill_index = get_index(entry, 'Jill Stein')\n",
    "        h_v = entry['vote'][hillary_index]\n",
    "        t_v = entry['vote'][trump_index]\n",
    "        g_v = entry['vote'][gary_index] if gary_index != -1 else 0\n",
    "        j_v = entry['vote'][jill_index] if jill_index != -1 else 0\n",
    "        \n",
    "        if h_v > t_v and h_v + j_v < t_v + g_v:\n",
    "            print \"Flipped to Trump:\", entry['st'], \"; Num Votes:\", sum(entry['ev'])\n",
    "        if h_v < t_v and h_v + j_v > t_v + g_v:\n",
    "            print \"Flipped to Hillary:\", entry['st'], \"; Num Votes:\", sum(entry['ev'])"
   ]
  },
  {
   "cell_type": "code",
   "execution_count": 14,
   "metadata": {
    "collapsed": false
   },
   "outputs": [
    {
     "name": "stdout",
     "output_type": "stream",
     "text": [
      "Maricopa County AZ\n",
      "Suffolk County NY\n",
      "Tarrant County TX\n",
      "Trump Won:  3\n",
      "Hillary Won:  33\n"
     ]
    }
   ],
   "source": [
    "hillary_count, trump_count = 0,0\n",
    "for entry in president['results']:\n",
    "    if entry['id'] != entry['st']:\n",
    "        if entry['total_votes'] > 500000:\n",
    "            hillary_index = get_index(entry, 'Hillary Clinton')\n",
    "            trump_index = get_index(entry, 'Donald Trump')\n",
    "            h_v = entry['vote'][hillary_index]\n",
    "            t_v = entry['vote'][trump_index]\n",
    "            if t_v > h_v:\n",
    "                trump_count += 1\n",
    "                print get_county_name(entry['id']), entry['st']\n",
    "            else:\n",
    "                hillary_count += 1\n",
    "print \"Trump Won: \", trump_count\n",
    "print \"Hillary Won: \", hillary_count"
   ]
  },
  {
   "cell_type": "code",
   "execution_count": null,
   "metadata": {
    "collapsed": true
   },
   "outputs": [],
   "source": []
  }
 ],
 "metadata": {
  "kernelspec": {
   "display_name": "Python 2",
   "language": "python",
   "name": "python2"
  },
  "language_info": {
   "codemirror_mode": {
    "name": "ipython",
    "version": 2
   },
   "file_extension": ".py",
   "mimetype": "text/x-python",
   "name": "python",
   "nbconvert_exporter": "python",
   "pygments_lexer": "ipython2",
   "version": "2.7.10"
  }
 },
 "nbformat": 4,
 "nbformat_minor": 0
}
